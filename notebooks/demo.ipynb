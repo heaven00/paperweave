{
 "cells": [
  {
   "cell_type": "code",
   "execution_count": 1,
   "metadata": {},
   "outputs": [],
   "source": [
    "from paperweave.graph.extraction_and_intro import init_and_intro_graph"
   ]
  },
  {
   "cell_type": "code",
   "execution_count": 2,
   "id": "75657bf1",
   "metadata": {},
   "outputs": [],
   "source": [
    "init_state = {\"podcast\": {\"paper\": {\"code\": \"1911.10635\"}}}\n",
    "output = init_and_intro_graph().invoke(\n",
    "    init_state,\n",
    "    {\"recursion_limit\": 100}\n",
    ")"
   ]
  },
  {
   "cell_type": "code",
   "execution_count": null,
   "id": "f1313e39",
   "metadata": {},
   "outputs": [],
   "source": []
  }
 ],
 "metadata": {
  "kernelspec": {
   "display_name": ".venv",
   "language": "python",
   "name": "python3"
  },
  "language_info": {
   "codemirror_mode": {
    "name": "ipython",
    "version": 3
   },
   "file_extension": ".py",
   "mimetype": "text/x-python",
   "name": "python",
   "nbconvert_exporter": "python",
   "pygments_lexer": "ipython3",
   "version": "3.11.11"
  }
 },
 "nbformat": 4,
 "nbformat_minor": 5
}
