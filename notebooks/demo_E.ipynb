{
 "cells": [
  {
   "cell_type": "code",
   "execution_count": 1,
   "id": "6a19bd36",
   "metadata": {},
   "outputs": [
    {
     "data": {
      "text/plain": [
       "True"
      ]
     },
     "execution_count": 1,
     "metadata": {},
     "output_type": "execute_result"
    }
   ],
   "source": [
    "from dotenv import load_dotenv\n",
    "from paperweave.graph.extraction_and_intro import init_and_intro_graph\n",
    "\n",
    "load_dotenv()"
   ]
  },
  {
   "cell_type": "markdown",
   "id": "b10bf647",
   "metadata": {},
   "source": [
    "# Extract the paper and generate the sections we want to cover for the paper"
   ]
  },
  {
   "cell_type": "code",
   "execution_count": 2,
   "id": "94e3dcd5",
   "metadata": {},
   "outputs": [
    {
     "data": {
      "image/png": "[encoded data removed]",
      "text/plain": [
       "<IPython.core.display.Image object>"
      ]
     },
     "metadata": {},
     "output_type": "display_data"
    }
   ],
   "source": [
    "# interaction graph\n",
    "from IPython.display import Image, display\n",
    "from langchain_core.runnables.graph import CurveStyle, MermaidDrawMethod, NodeStyles\n",
    "from paperweave.graph.utterance_and_interaction import get_utterance_graph\n",
    "\n",
    "interaction_graph = get_utterance_graph()\n",
    "\n",
    "display(\n",
    "    Image(\n",
    "        interaction_graph.get_graph().draw_mermaid_png(\n",
    "            draw_method=MermaidDrawMethod.API,\n",
    "        )\n",
    "    )\n",
    ")\n"
   ]
  },
  {
   "cell_type": "code",
   "execution_count": 3,
   "id": "84dd0661",
   "metadata": {},
   "outputs": [
    {
     "name": "stdout",
     "output_type": "stream",
     "text": [
      "('Jimmy: How has the introduction of the Transformer model changed the '\n",
      " 'landscape of natural language processing, especially in machine translation?')\n",
      "('Mike: The introduction of the Transformer model in the NLP space was nothing '\n",
      " 'short of revolutionary. Traditionally, machine translation relied heavily on '\n",
      " 'recurrent neural networks (RNNs) or convolutional networks, which '\n",
      " 'fundamentally process sequences in a sequential manner. This sequential '\n",
      " 'processing limited their ability to fully capitalize on parallelization '\n",
      " 'during training, making them inefficient, especially with long sequences.\\n'\n",
      " '\\n'\n",
      " 'The Transformer model changes that paradigm entirely. By discarding '\n",
      " 'recurrence and adopting a purely attention-based architecture, it enables '\n",
      " 'parallel computation across all time steps. This means you can process '\n",
      " 'sequences much faster and train on larger datasets more efficiently. The '\n",
      " 'architecture, being based solely on attention mechanisms, allows for '\n",
      " 'capturing long-range dependencies without the path length issues that '\n",
      " 'plagued RNNs.\\n'\n",
      " '\\n'\n",
      " 'In terms of performance, Transformers have consistently outperformed '\n",
      " 'previous state-of-the-art models on benchmark datasets in machine '\n",
      " 'translation, as highlighted by BLEU scores in the original paper. For '\n",
      " 'instance, the Transformer achieved state-of-the-art BLEU scores on the WMT '\n",
      " '2014 English-to-German and English-to-French translations, significantly '\n",
      " 'surpassing models that came before it, including ensemble models. \\n'\n",
      " '\\n'\n",
      " 'Moreover, the multi-head attention mechanism allows the model to focus on '\n",
      " 'different parts of the input sequence simultaneously, enhancing its '\n",
      " 'understanding of the context. This capability is essential for accurately '\n",
      " 'translating languages that can be quite different syntactically and '\n",
      " 'semantically.\\n'\n",
      " '\\n'\n",
      " 'Beyond machine translation, the architecture’s flexibility has encouraged '\n",
      " 'its adoption across various NLP tasks, leading to innovations in '\n",
      " 'summarization, question answering, and even conversational agents. The '\n",
      " 'Transformer model has effectively set a new standard for what’s possible in '\n",
      " 'NLP, inspiring a whole generation of research and applications that build '\n",
      " 'upon its foundation, including BERT, GPT, and many other architectures that '\n",
      " 'emphasize contextual understanding and efficiency. \\n'\n",
      " '\\n'\n",
      " 'It’s fascinating to see how a single paper can shift the direction of '\n",
      " 'research in a field so dramatically, but that\\'s exactly what \"Attention Is '\n",
      " 'All You Need\" has done!')\n"
     ]
    }
   ],
   "source": [
    "from langgraph.types import Command\n",
    "import pprint\n",
    "import json\n",
    "import os\n",
    "\n",
    "# Define the init_state and invoke the graph as done previously\n",
    "init_state = {\"podcast\": {\"paper\": {\"code\": \"1706.03762\"}}}\n",
    "# Define the filename using the code from the init_state\n",
    "code = init_state[\"podcast\"][\"paper\"][\"code\"]\n",
    "filename = f\"{code}.json\"\n",
    "\n",
    "# Check if the file already exists\n",
    "if not os.path.exists(filename):\n",
    "    # Write info_state to a JSON file with the filename derived from the code\n",
    "    info_state = init_and_intro_graph().invoke(init_state, {\"recursion_limit\": 100})\n",
    "    with open(filename, 'w') as file:\n",
    "        json.dump(info_state, file)\n",
    "else:\n",
    "    with open(filename, 'r') as file:\n",
    "        info_state = json.load(file)\n",
    "\n",
    "\n",
    "config = {\"configurable\": {\"thread_id\": \"paperweave_demo\"}}\n",
    "\n",
    "\n",
    "def get_last_utterance(chunk):\n",
    "    return list(chunk.values())[0]['podcast']['transcript'][-1]\n",
    "\n",
    "\n",
    "for chunk in interaction_graph.stream(info_state, config=config):\n",
    "    if '__interrupt__' in chunk.keys():\n",
    "        human_input = input()\n",
    "        interaction_graph.invoke(Command(resume=human_input), config=config)\n",
    "    else:\n",
    "        utterance = get_last_utterance(chunk)\n",
    "        if type(utterance) is dict:\n",
    "            pprint.pprint(f\"{utterance['persona']['name']}: {utterance['speach']}\")\n",
    "        "
   ]
  },
  {
   "cell_type": "code",
   "execution_count": null,
   "id": "65c17058",
   "metadata": {},
   "outputs": [],
   "source": []
  }
 ],
 "metadata": {
  "kernelspec": {
   "display_name": ".venv",
   "language": "python",
   "name": "python3"
  },
  "language_info": {
   "codemirror_mode": {
    "name": "ipython",
    "version": 3
   },
   "file_extension": ".py",
   "mimetype": "text/x-python",
   "name": "python",
   "nbconvert_exporter": "python",
   "pygments_lexer": "ipython3",
   "version": "3.11.11"
  }
 },
 "nbformat": 4,
 "nbformat_minor": 5
}
